{
  "cells": [
    {
      "cell_type": "code",
      "source": [
        "endpoint = 'http://efdf5bda-f441-47f3-9902-b036d4690b5b.eastus2.azurecontainer.io/score' #Replace with your endpoint\n",
        "key = 'tfgKcniZEs2lVYElegtwed404B8nmvSF' #Replace with your key\n",
        "\n",
        "import urllib.request\n",
        "import json\n",
        "import os\n",
        "\n",
        "# Prepare the input data\n",
        "data = {\n",
        "    \"Inputs\": {\n",
        "        \"WebServiceInput0\":\n",
        "        [\n",
        "            {\n",
        "                    'symboling': 3,\n",
        "                    'normalized-losses': None,\n",
        "                    'make': \"alfa-romero\",\n",
        "                    'fuel-type': \"gas\",\n",
        "                    'aspiration': \"std\",\n",
        "                    'num-of-doors': \"two\",\n",
        "                    'body-style': \"convertible\",\n",
        "                    'drive-wheels': \"rwd\",\n",
        "                    'engine-location': \"front\",\n",
        "                    'wheel-base': 88.6,\n",
        "                    'length': 168.8,\n",
        "                    'width': 64.1,\n",
        "                    'height': 48.8,\n",
        "                    'curb-weight': 2548,\n",
        "                    'engine-type': \"dohc\",\n",
        "                    'num-of-cylinders': \"four\",\n",
        "                    'engine-size': 130,\n",
        "                    'fuel-system': \"mpfi\",\n",
        "                    'bore': 3.47,\n",
        "                    'stroke': 2.68,\n",
        "                    'compression-ratio': 9,\n",
        "                    'horsepower': 111,\n",
        "                    'peak-rpm': 5000,\n",
        "                    'city-mpg': 21,\n",
        "                    'highway-mpg': 27,\n",
        "            },\n",
        "        ],\n",
        "    },\n",
        "    \"GlobalParameters\":  {\n",
        "    }\n",
        "}\n",
        "body = str.encode(json.dumps(data))\n",
        "headers = {'Content-Type':'application/json', 'Authorization':('Bearer '+ key)}\n",
        "req = urllib.request.Request(endpoint, body, headers)\n",
        "\n",
        "try:\n",
        "    response = urllib.request.urlopen(req)\n",
        "    result = response.read()\n",
        "    json_result = json.loads(result)\n",
        "    y = json_result[\"Results\"][\"WebServiceOutput0\"][0][\"predicted_price\"]\n",
        "    print('Predicted price: {:.2f}'.format(y))\n",
        "\n",
        "except urllib.error.HTTPError as error:\n",
        "    print(\"The request failed with status code: \" + str(error.code))\n",
        "\n",
        "    # Print the headers to help debug the error\n",
        "    print(error.info())\n",
        "    print(json.loads(error.read().decode(\"utf8\", 'ignore')))"
      ],
      "outputs": [
        {
          "output_type": "stream",
          "name": "stdout",
          "text": [
            "Predicted price: 14997.01\n"
          ]
        }
      ],
      "execution_count": 1,
      "metadata": {
        "gather": {
          "logged": 1613692702873
        }
      }
    }
  ],
  "metadata": {
    "kernelspec": {
      "display_name": "Python 3.6 - AzureML",
      "language": "python",
      "name": "python3-azureml"
    },
    "language_info": {
      "name": "python",
      "version": "3.6.9",
      "mimetype": "text/x-python",
      "codemirror_mode": {
        "name": "ipython",
        "version": 3
      },
      "pygments_lexer": "ipython3",
      "nbconvert_exporter": "python",
      "file_extension": ".py"
    },
    "nteract": {
      "version": "nteract-front-end@1.0.0"
    }
  },
  "nbformat": 4,
  "nbformat_minor": 2
}