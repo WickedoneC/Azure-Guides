{
  "cells": [
    {
      "cell_type": "code",
      "source": [
        "endpoint = 'http://fa3695ef-c490-488d-87a7-6685f5687107.eastus2.azurecontainer.io/score' #Replace with your endpoint\n",
        "key = 'CfQbBsE55LHmnP2x1InBschTms7UeM47' #Replace with your key\n",
        "\n",
        "import json\n",
        "import requests\n",
        "\n",
        "#An array of features based on five-day weather forecast\n",
        "x = [[1,1,2022,1,0,6,0,2,0.344167,0.363625,0.805833,0.160446],\n",
        "    [2,1,2022,1,0,0,0,2,0.363478,0.353739,0.696087,0.248539],\n",
        "    [3,1,2022,1,0,1,1,1,0.196364,0.189405,0.437273,0.248309],\n",
        "    [4,1,2022,1,0,2,1,1,0.2,0.212122,0.590435,0.160296],\n",
        "    [5,1,2022,1,0,3,1,1,0.226957,0.22927,0.436957,0.1869]]\n",
        "\n",
        "#Convert the array to JSON format\n",
        "input_json = json.dumps({\"data\": x})\n",
        "\n",
        "#Set the content type and authentication for the request\n",
        "headers = {\"Content-Type\":\"application/json\",\n",
        "        \"Authorization\":\"Bearer \" + key}\n",
        "\n",
        "#Send the request\n",
        "response = requests.post(endpoint, input_json, headers=headers)\n",
        "\n",
        "#If we got a valid response, display the predictions\n",
        "if response.status_code == 200:\n",
        "    y = json.loads(response.json())\n",
        "    print(\"Predictions:\")\n",
        "    for i in range(len(x)):\n",
        "        print (\" Day: {}. Predicted rentals: {}\".format(i+1, max(0, round(y[\"result\"][i]))))\n",
        "else:\n",
        "    print(response)\n"
      ],
      "outputs": [
        {
          "output_type": "stream",
          "name": "stdout",
          "text": [
            "Predictions:\n",
            " Day: 1. Predicted rentals: 582\n",
            " Day: 2. Predicted rentals: 410\n",
            " Day: 3. Predicted rentals: 112\n",
            " Day: 4. Predicted rentals: 208\n",
            " Day: 5. Predicted rentals: 86\n"
          ]
        }
      ],
      "execution_count": 1,
      "metadata": {
        "gather": {
          "logged": 1613580592137
        }
      }
    }
  ],
  "metadata": {
    "kernelspec": {
      "name": "python3-azureml",
      "language": "python",
      "display_name": "Python 3.6 - AzureML"
    },
    "language_info": {
      "name": "python",
      "version": "3.6.9",
      "mimetype": "text/x-python",
      "codemirror_mode": {
        "name": "ipython",
        "version": 3
      },
      "pygments_lexer": "ipython3",
      "nbconvert_exporter": "python",
      "file_extension": ".py"
    },
    "kernel_info": {
      "name": "python3-azureml"
    },
    "nteract": {
      "version": "nteract-front-end@1.0.0"
    },
    "microsoft": {
      "host": {
        "AzureML": {
          "notebookHasBeenCompleted": true
        }
      }
    }
  },
  "nbformat": 4,
  "nbformat_minor": 2
}